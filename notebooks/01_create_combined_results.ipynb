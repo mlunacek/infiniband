{
 "metadata": {
  "name": "",
  "signature": "sha256:1d79cfe9ef7a22996b2afb3b3e70c6c84e02e71305ae77e9867639ab0d1de6b7"
 },
 "nbformat": 3,
 "nbformat_minor": 0,
 "worksheets": [
  {
   "cells": [
    {
     "cell_type": "code",
     "collapsed": false,
     "input": [
      "import os\n",
      "import glob\n",
      "import pandas as pd\n",
      "\n",
      "%matplotlib inline\n",
      "import matplotlib.pyplot as plt"
     ],
     "language": "python",
     "metadata": {},
     "outputs": [],
     "prompt_number": 25
    },
    {
     "cell_type": "code",
     "collapsed": false,
     "input": [
      "def combine_results(prefix):\n",
      "    \n",
      "    d_path = '/lustre/janus_scratch/molu8455/infiniband/data/parsed'\n",
      "    o_path = '/lustre/janus_scratch/molu8455/infiniband/data/combined'\n",
      "    \n",
      "    files = glob.glob(os.path.join(d_path, prefix + '*'))\n",
      "    frames = map(pd.read_csv, files)\n",
      "    df = pd.concat(frames, ignore_index=True)\n",
      "    print df.shape\n",
      "    \n",
      "    df.columns = ['unnamed','id','res','same','path']\n",
      "    df.drop('unnamed', axis=1, inplace=True)\n",
      "    print df.shape\n",
      "    print 'number of null values', df.isnull().sum()\n",
      "    #print 'number of null values', df.isna().sum()\n",
      "    \n",
      "    d_path = o_path\n",
      "    filename = os.path.join(d_path,'all_' + prefix + '.csv')\n",
      "    df.dropna(inplace=True)\n",
      "    print df.shape\n",
      "    \n",
      "    # Unique elements too...\n",
      "    df['upath'] = df['path'].map(lambda x: ' '.join(list(set(x.split()))))\n",
      "    \n",
      "    df.to_csv(filename, index=False)"
     ],
     "language": "python",
     "metadata": {},
     "outputs": [],
     "prompt_number": 33
    },
    {
     "cell_type": "code",
     "collapsed": false,
     "input": [
      "combine_results('cables')"
     ],
     "language": "python",
     "metadata": {},
     "outputs": [
      {
       "output_type": "stream",
       "stream": "stdout",
       "text": [
        "(203950, 5)\n",
        "(203950, 4)\n",
        "number of null values "
       ]
      },
      {
       "output_type": "stream",
       "stream": "stdout",
       "text": [
        "id       0\n",
        "res      0\n",
        "same     0\n",
        "path    64\n",
        "dtype: int64\n",
        "(203886, 4)"
       ]
      },
      {
       "output_type": "stream",
       "stream": "stdout",
       "text": [
        "\n"
       ]
      }
     ],
     "prompt_number": 34
    },
    {
     "cell_type": "code",
     "collapsed": false,
     "input": [
      "combine_results('ports')"
     ],
     "language": "python",
     "metadata": {},
     "outputs": [
      {
       "output_type": "stream",
       "stream": "stdout",
       "text": [
        "(203950, 5)\n",
        "(203950, 4)\n",
        "number of null values "
       ]
      },
      {
       "output_type": "stream",
       "stream": "stdout",
       "text": [
        "id      0\n",
        "res     0\n",
        "same    0\n",
        "path    0\n",
        "dtype: int64\n",
        "(203950, 4)"
       ]
      },
      {
       "output_type": "stream",
       "stream": "stdout",
       "text": [
        "\n"
       ]
      }
     ],
     "prompt_number": 35
    },
    {
     "cell_type": "code",
     "collapsed": false,
     "input": [],
     "language": "python",
     "metadata": {},
     "outputs": []
    }
   ],
   "metadata": {}
  }
 ]
}