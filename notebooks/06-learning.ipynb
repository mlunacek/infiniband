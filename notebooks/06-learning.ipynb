{
 "metadata": {
  "name": ""
 },
 "nbformat": 3,
 "nbformat_minor": 0,
 "worksheets": [
  {
   "cells": [
    {
     "cell_type": "markdown",
     "metadata": {},
     "source": [
      "# Learning\n",
      "\n",
      "IDEA:\n",
      "\n",
      "- Since we isolate a large degreee of failure from individual features, we can use a learning model to find the set of features that have the greatest impact on our system.\n",
      "- The following will generate important features.\n",
      "    - Logistic regression\n",
      "    - Decision trees\n",
      "    - Naive Bayes\n",
      "   "
     ]
    },
    {
     "cell_type": "code",
     "collapsed": false,
     "input": [
      "import os\n",
      "import pandas as pd\n",
      "import numpy as np\n",
      "import matplotlib.pyplot as plt\n",
      "import matplotlib as mpl"
     ],
     "language": "python",
     "metadata": {},
     "outputs": [],
     "prompt_number": 1
    },
    {
     "cell_type": "markdown",
     "metadata": {},
     "source": [
      "## Setup\n",
      "\n",
      "Get the corpus."
     ]
    },
    {
     "cell_type": "code",
     "collapsed": false,
     "input": [
      "filename = '/lustre/janus_scratch/molu8455/infiniband/data/combined/all_cables.csv'\n",
      "df = pd.read_csv(filename)\n",
      "df.dropna(inplace=True)\n",
      "df['norm'] = df.res.values/np.min(df.res.values)"
     ],
     "language": "python",
     "metadata": {},
     "outputs": [],
     "prompt_number": 4
    },
    {
     "cell_type": "markdown",
     "metadata": {},
     "source": [
      "Clean up the figures."
     ]
    },
    {
     "cell_type": "code",
     "collapsed": false,
     "input": [
      "mpl.rcParams['figure.figsize'] = 10,6\n",
      "\n",
      "def clean(ax):\n",
      "    for s in ['top','right']:\n",
      "        ax.spines[s].set_visible(False)\n",
      "    \n",
      "    ax.tick_params(direction='out', length=10, pad=12,\n",
      "                   width=1., colors='grey',\n",
      "                   bottom='on', top='off', left='on', right='off')\n",
      "    ax.grid(False)"
     ],
     "language": "python",
     "metadata": {},
     "outputs": [],
     "prompt_number": 3
    },
    {
     "cell_type": "markdown",
     "metadata": {},
     "source": [
      "Create the feature vector."
     ]
    },
    {
     "cell_type": "code",
     "collapsed": false,
     "input": [
      "import re\n",
      "from sklearn.feature_extraction.text import CountVectorizer\n",
      "from sklearn.feature_extraction.text import TfidfVectorizer\n",
      "\n",
      "REGEX = re.compile(r\" \")\n",
      "def tokenize(text):\n",
      "    return [ str(tok.strip()) for tok in REGEX.split(text)]\n",
      "\n",
      "vec = CountVectorizer(min_df=0, \n",
      "                tokenizer=tokenize, \n",
      "                stop_words=None, \n",
      "                ngram_range=(1,1))\n",
      "\n",
      "corpus = df['path'].values\n",
      "print len(corpus)\n",
      "X = vec.fit_transform(corpus)\n",
      "print X.shape"
     ],
     "language": "python",
     "metadata": {},
     "outputs": [
      {
       "output_type": "stream",
       "stream": "stdout",
       "text": [
        "203886\n",
        "(203886, 6544)"
       ]
      },
      {
       "output_type": "stream",
       "stream": "stdout",
       "text": [
        "\n"
       ]
      }
     ],
     "prompt_number": 5
    },
    {
     "cell_type": "markdown",
     "metadata": {},
     "source": [
      "Create the resonse vector, about half the data."
     ]
    },
    {
     "cell_type": "code",
     "collapsed": false,
     "input": [
      "y = np.zeros(X.shape[0])\n",
      "y[ df['norm'].values > 2 ] = 1\n",
      "print 'percent', y.sum()/y.shape[0]"
     ],
     "language": "python",
     "metadata": {},
     "outputs": [
      {
       "output_type": "stream",
       "stream": "stdout",
       "text": [
        "percent 0.514439441649\n"
       ]
      }
     ],
     "prompt_number": 9
    },
    {
     "cell_type": "markdown",
     "metadata": {},
     "source": [
      "## Fit\n",
      "\n",
      "- Use a 5 fold cross validation method.\n",
      "- Try logistic regression"
     ]
    },
    {
     "cell_type": "code",
     "collapsed": false,
     "input": [
      "from sklearn.cross_validation import StratifiedShuffleSplit\n",
      "from sklearn.linear_model import LogisticRegression\n",
      "\n",
      "clf = LogisticRegression()"
     ],
     "language": "python",
     "metadata": {},
     "outputs": [],
     "prompt_number": 14
    },
    {
     "cell_type": "code",
     "collapsed": false,
     "input": [
      "from sklearn.metrics import f1_score    \n",
      "from sklearn.metrics import roc_curve\n",
      "from sklearn.metrics import roc_auc_score\n",
      "\n",
      "def roc_info(y, pred):\n",
      "    fpr, tpr, thresholds = roc_curve(y, pred)\n",
      "    N = len(fpr)/20\n",
      "    return fpr[::N], tpr[::N]\n",
      "\n",
      "def evaluate_fold(clf, X_train, y_train, X_test, y_test):\n",
      "    tmp = dict()\n",
      "    \n",
      "    pred_test = clf.predict_proba(X_test)\n",
      "    pred_train = clf.predict_proba(X_train)\n",
      "    tmp['roc'] = roc_info(y_test, pred_test[:,1])   \n",
      "    tmp['roc_area'] = roc_auc_score(y_test, pred_test[:,1])\n",
      "    \n",
      "    pred_test = clf.predict(X_test)\n",
      "    pred_train = clf.predict(X_train)\n",
      "    tmp['f1_test'] = f1_score(y_test, pred_test, pos_label=1)        \n",
      "    tmp['f1_train'] = f1_score(y_train, pred_train, pos_label=1) \n",
      "    \n",
      "    print tmp['roc_area'], tmp['f1_train'], tmp['f1_test']\n",
      "    return tmp"
     ],
     "language": "python",
     "metadata": {},
     "outputs": [],
     "prompt_number": 54
    },
    {
     "cell_type": "code",
     "collapsed": false,
     "input": [
      "results = []\n",
      "\n",
      "for train_index, test_index in StratifiedShuffleSplit(y, 5, test_size=0.2):\n",
      "    X_train, X_test = X[train_index], X[test_index]\n",
      "    y_train, y_test = y[train_index], y[test_index]\n",
      "    \n",
      "    # fit..\n",
      "    clf.fit(X_train, y_train)\n",
      "    tmp = evaluate_fold(clf, X_train, y_train, X_test, y_test)\n",
      "    results.append(tmp)\n"
     ],
     "language": "python",
     "metadata": {},
     "outputs": [
      {
       "output_type": "stream",
       "stream": "stdout",
       "text": [
        "0.711374713384 0.680023916147 0.648007033998\n",
        "0.713622384345"
       ]
      },
      {
       "output_type": "stream",
       "stream": "stdout",
       "text": [
        " 0.679455732504 0.651982378855\n",
        "0.711654311251"
       ]
      },
      {
       "output_type": "stream",
       "stream": "stdout",
       "text": [
        " 0.680044117557 0.649924342266\n",
        "0.710610599994"
       ]
      },
      {
       "output_type": "stream",
       "stream": "stdout",
       "text": [
        " 0.679755363604 0.650295078769\n",
        "0.713210554395"
       ]
      },
      {
       "output_type": "stream",
       "stream": "stdout",
       "text": [
        " 0.680508087362 0.651777642028\n"
       ]
      }
     ],
     "prompt_number": 55
    },
    {
     "cell_type": "markdown",
     "metadata": {},
     "source": [
      "## Evaluate"
     ]
    },
    {
     "cell_type": "code",
     "collapsed": false,
     "input": [
      "def plot_results(results):\n",
      "    fig, ax = plt.subplots()\n",
      "    \n",
      "    for tmp in results:\n",
      "        fpr, tpr  = tmp['roc']\n",
      "        roc_auc = tmp['roc_area']\n",
      "        ax.plot(fpr, tpr, label='ROC curve (area = %0.2f)' % roc_auc)\n",
      "        \n",
      "    ax.plot([0, 1], [0, 1], 'k--')\n",
      "    ax.set_xlim([0.0, 1.0])\n",
      "    ax.set_ylim([0.0, 1.0])\n",
      "    ax.set_xlabel('False Positive Rate')\n",
      "    ax.set_ylabel('True Positive Rate')\n",
      "    ax.set_title('Receiver operating characteristic ROC')\n",
      "    ax.legend(loc=\"lower right\")\n",
      "    clean(ax)\n",
      "    fig.show()"
     ],
     "language": "python",
     "metadata": {},
     "outputs": [],
     "prompt_number": 58
    },
    {
     "cell_type": "code",
     "collapsed": false,
     "input": [
      "plot_results(results)"
     ],
     "language": "python",
     "metadata": {},
     "outputs": [
      {
       "metadata": {},
       "output_type": "display_data",
       "png": "[encoded data removed]",
       "text": [
        "<matplotlib.figure.Figure at 0xe0fe310>"
       ]
      }
     ],
     "prompt_number": 59
    },
    {
     "cell_type": "markdown",
     "metadata": {},
     "source": [
      "## Learning curve"
     ]
    },
    {
     "cell_type": "markdown",
     "metadata": {},
     "source": [
      "Create a single fold"
     ]
    },
    {
     "cell_type": "code",
     "collapsed": false,
     "input": [
      "data = dict()\n",
      "data['training_error'] = []\n",
      "data['test_error'] = []\n",
      "data['n_range'] = []\n",
      "\n",
      "N_range = [125, 250, 500,1000,2000,4000,8000,16000,32000,64000,128000]\n",
      "\n",
      "clf = LogisticRegression()\n",
      "print X.shape\n",
      "\n",
      "for N in N_range:\n",
      "    train_index, test_index = next(iter(StratifiedShuffleSplit(y, 1, test_size=0.2)))\n",
      "    X_train, X_test = X[train_index], X[test_index]\n",
      "    y_train, y_test = y[train_index], y[test_index]\n",
      "    #print X_train.shape, X_test.shape\n",
      "    XN = X_train[:N]\n",
      "    yN = y_train[:N]    \n",
      "    model = clf.fit(XN, yN)\n",
      "    data['training_error'].append(f1_score(model.predict(XN), yN))\n",
      "    data['test_error'].append(f1_score(model.predict(X_test), y_test))\n",
      "    data['n_range'].append(N)\n",
      "    print N, yN.sum()/float(len(yN))\n"
     ],
     "language": "python",
     "metadata": {},
     "outputs": [
      {
       "output_type": "stream",
       "stream": "stdout",
       "text": [
        "(203886, 6544)\n",
        "125"
       ]
      },
      {
       "output_type": "stream",
       "stream": "stdout",
       "text": [
        " 0.504\n",
        "250"
       ]
      },
      {
       "output_type": "stream",
       "stream": "stdout",
       "text": [
        " 0.536\n",
        "500"
       ]
      },
      {
       "output_type": "stream",
       "stream": "stdout",
       "text": [
        " 0.52\n",
        "1000"
       ]
      },
      {
       "output_type": "stream",
       "stream": "stdout",
       "text": [
        " 0.502\n",
        "2000"
       ]
      },
      {
       "output_type": "stream",
       "stream": "stdout",
       "text": [
        " 0.5245\n",
        "4000"
       ]
      },
      {
       "output_type": "stream",
       "stream": "stdout",
       "text": [
        " 0.5115\n",
        "8000"
       ]
      },
      {
       "output_type": "stream",
       "stream": "stdout",
       "text": [
        " 0.512375\n",
        "16000"
       ]
      },
      {
       "output_type": "stream",
       "stream": "stdout",
       "text": [
        " 0.513375\n",
        "32000"
       ]
      },
      {
       "output_type": "stream",
       "stream": "stdout",
       "text": [
        " 0.5105625\n",
        "64000"
       ]
      },
      {
       "output_type": "stream",
       "stream": "stdout",
       "text": [
        " 0.513171875\n",
        "128000"
       ]
      },
      {
       "output_type": "stream",
       "stream": "stdout",
       "text": [
        " 0.515046875\n"
       ]
      }
     ],
     "prompt_number": 145
    },
    {
     "cell_type": "code",
     "collapsed": false,
     "input": [
      "fig, ax = plt.subplots()\n",
      "\n",
      "ax.plot(data['n_range'], data['test_error'], '-o', label='test')\n",
      "ax.plot(data['n_range'], data['training_error'], '-o', label='training')\n",
      "ax.set_ylim(0,1)\n",
      "ax.set_xlabel('training size')\n",
      "ax.set_ylabel('F1 score')\n",
      "ax.set_xscale('log')\n",
      "ax.set_xlim(100, 150000)\n",
      "ax.set_ylim(0,1.1)\n",
      "ax.hlines(y=np.max(data['test_error']), xmin=100, xmax=150000, color='lightgrey')\n",
      "ax.hlines(0.5, xmin=100, xmax=150000, color='lightgrey')\n",
      "\n",
      "clean(ax)\n",
      "fig.show()"
     ],
     "language": "python",
     "metadata": {},
     "outputs": [
      {
       "metadata": {},
       "output_type": "display_data",
       "png": "[encoded data removed]",
       "text": [
        "<matplotlib.figure.Figure at 0xa405e10>"
       ]
      }
     ],
     "prompt_number": 149
    },
    {
     "cell_type": "code",
     "collapsed": false,
     "input": [],
     "language": "python",
     "metadata": {},
     "outputs": []
    }
   ],
   "metadata": {}
  }
 ]
}